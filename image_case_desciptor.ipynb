{
 "cells": [
  {
   "cell_type": "markdown",
   "metadata": {},
   "source": [
    "# v1"
   ]
  },
  {
   "cell_type": "markdown",
   "metadata": {},
   "source": [
    "# Creates a .txt file with image description"
   ]
  },
  {
   "cell_type": "code",
   "execution_count": 4,
   "metadata": {
    "metadata": {}
   },
   "outputs": [],
   "source": [
    "import os\n",
    "import cv2\n",
    "\n",
    "# Function to calculate image quality metrics\n",
    "def calculate_metrics(image_path):\n",
    "    # Load image\n",
    "    image = cv2.imread(image_path)\n",
    "    gray_image = cv2.cvtColor(image, cv2.COLOR_BGR2GRAY)\n",
    "    \n",
    "    # Calculate metrics\n",
    "    mean_intensity = cv2.mean(gray_image)[0]\n",
    "    # Add more metric calculations here\n",
    "    \n",
    "    # Return metrics\n",
    "    return mean_intensity  # Example, add other metrics as needed\n",
    "\n",
    "# Folder containing images\n",
    "folder_path = \"case_description\"\n",
    "\n",
    "# Output file to save metrics\n",
    "output_file = \"image_quality_metrics.txt\"\n",
    "\n",
    "# Open output file in write mode\n",
    "with open(output_file, \"w\") as f:\n",
    "    # Iterate through images in the folder\n",
    "    for filename in os.listdir(folder_path):\n",
    "        if filename.endswith(\".jpg\") or filename.endswith(\".png\"):\n",
    "            image_path = os.path.join(folder_path, filename)\n",
    "            \n",
    "            # Calculate metrics for the image\n",
    "            metrics = calculate_metrics(image_path)\n",
    "            \n",
    "            # Write metrics to the file\n",
    "            f.write(f\"Metrics for {filename}:\\n\")\n",
    "            f.write(\"Mean Intensity (Brightness): {}\\n\".format(metrics))\n",
    "            # Add more write statements for other metrics\n",
    "            \n",
    "            # Separate each image's metrics with a newline\n",
    "            f.write(\"\\n\")\n"
   ]
  },
  {
   "cell_type": "markdown",
   "metadata": {},
   "source": [
    "# V2"
   ]
  },
  {
   "cell_type": "markdown",
   "metadata": {},
   "source": [
    "Prints as output"
   ]
  },
  {
   "cell_type": "code",
   "execution_count": 3,
   "metadata": {
    "metadata": {}
   },
   "outputs": [
    {
     "name": "stdout",
     "output_type": "stream",
     "text": [
      "Image: case 3(b).jpg\n",
      "Luminance: 79.34\n",
      "Brightness: 79.40\n",
      "Contrast: 1144.59\n",
      "Noise Level: 3.12\n",
      "--------------------\n",
      "Image: case 3(c).jpg\n",
      "Luminance: 77.52\n",
      "Brightness: 77.48\n",
      "Contrast: 1175.62\n",
      "Noise Level: 3.36\n",
      "--------------------\n",
      "Image: case 3(a).jpg\n",
      "Luminance: 75.37\n",
      "Brightness: 75.59\n",
      "Contrast: 1171.11\n",
      "Noise Level: 3.00\n",
      "--------------------\n",
      "Image: case 2(a).jpg\n",
      "Luminance: 144.08\n",
      "Brightness: 143.57\n",
      "Contrast: 1136.97\n",
      "Noise Level: 3.57\n",
      "--------------------\n",
      "Image: case 1(c).jpg\n",
      "Luminance: 159.29\n",
      "Brightness: 159.38\n",
      "Contrast: 2020.20\n",
      "Noise Level: 3.27\n",
      "--------------------\n",
      "Image: case 1(a).jpg\n",
      "Luminance: 161.42\n",
      "Brightness: 161.54\n",
      "Contrast: 402.21\n",
      "Noise Level: 4.46\n",
      "--------------------\n",
      "Image: case 2(b).jpg\n",
      "Luminance: 146.05\n",
      "Brightness: 145.70\n",
      "Contrast: 1161.04\n",
      "Noise Level: 3.56\n",
      "--------------------\n",
      "Image: case 1(b).jpg\n",
      "Luminance: 167.54\n",
      "Brightness: 167.69\n",
      "Contrast: 464.55\n",
      "Noise Level: 4.01\n",
      "--------------------\n"
     ]
    },
    {
     "ename": "error",
     "evalue": "OpenCV(4.9.0) /io/opencv/modules/imgproc/src/color.cpp:196: error: (-215:Assertion failed) !_src.empty() in function 'cvtColor'\n",
     "output_type": "error",
     "traceback": [
      "\u001b[0;31m---------------------------------------------------------------------------\u001b[0m",
      "\u001b[0;31merror\u001b[0m                                     Traceback (most recent call last)",
      "Cell \u001b[0;32mIn[3], line 15\u001b[0m\n\u001b[1;32m     12\u001b[0m image \u001b[38;5;241m=\u001b[39m cv2\u001b[38;5;241m.\u001b[39mimread(image_path)\n\u001b[1;32m     14\u001b[0m \u001b[38;5;66;03m# Convert the image to grayscale\u001b[39;00m\n\u001b[0;32m---> 15\u001b[0m gray \u001b[38;5;241m=\u001b[39m \u001b[43mcv2\u001b[49m\u001b[38;5;241;43m.\u001b[39;49m\u001b[43mcvtColor\u001b[49m\u001b[43m(\u001b[49m\u001b[43mimage\u001b[49m\u001b[43m,\u001b[49m\u001b[43m \u001b[49m\u001b[43mcv2\u001b[49m\u001b[38;5;241;43m.\u001b[39;49m\u001b[43mCOLOR_BGR2GRAY\u001b[49m\u001b[43m)\u001b[49m\n\u001b[1;32m     17\u001b[0m \u001b[38;5;66;03m# Calculate luminance\u001b[39;00m\n\u001b[1;32m     18\u001b[0m luminance \u001b[38;5;241m=\u001b[39m cv2\u001b[38;5;241m.\u001b[39mmean(gray)[\u001b[38;5;241m0\u001b[39m]\n",
      "\u001b[0;31merror\u001b[0m: OpenCV(4.9.0) /io/opencv/modules/imgproc/src/color.cpp:196: error: (-215:Assertion failed) !_src.empty() in function 'cvtColor'\n"
     ]
    }
   ],
   "source": [
    "import cv2\n",
    "import os\n",
    "import numpy as np\n",
    "\n",
    "# Set the folder path\n",
    "folder_path = \"case_description\"\n",
    "\n",
    "# Loop through all files in the folder\n",
    "for filename in os.listdir(folder_path):\n",
    "    # Load the image\n",
    "    image_path = os.path.join(folder_path, filename)\n",
    "    image = cv2.imread(image_path)\n",
    "\n",
    "    # Convert the image to grayscale\n",
    "    gray = cv2.cvtColor(image, cv2.COLOR_BGR2GRAY)\n",
    "\n",
    "    # Calculate luminance\n",
    "    luminance = cv2.mean(gray)[0]\n",
    "\n",
    "    # Calculate brightness\n",
    "    brightness = np.mean(image)\n",
    "\n",
    "    # Calculate contrast\n",
    "    hist = cv2.calcHist([gray], [0], None, [256], [0, 256])\n",
    "    contrast = hist.std()\n",
    "\n",
    "    # Calculate noise level\n",
    "    noise_level = np.sqrt(np.mean(np.square(gray - cv2.blur(gray, (5, 5)))))\n",
    "\n",
    "    # Print the results\n",
    "    print(f\"Image: {filename}\")\n",
    "    print(f\"Luminance: {luminance:.2f}\")\n",
    "    print(f\"Brightness: {brightness:.2f}\")\n",
    "    print(f\"Contrast: {contrast:.2f}\")\n",
    "    print(f\"Noise Level: {noise_level:.2f}\")\n",
    "    print(\"-\" * 20)"
   ]
  },
  {
   "cell_type": "markdown",
   "metadata": {},
   "source": [
    "# V3"
   ]
  },
  {
   "cell_type": "code",
   "execution_count": 2,
   "metadata": {
    "metadata": {}
   },
   "outputs": [
    {
     "name": "stdout",
     "output_type": "stream",
     "text": [
      "Image: case 3(b).jpg\n",
      "Luminance: 79.34 (Pixel intensity value, 0-255)\n",
      "Brightness: 79.40 (Pixel intensity value, 0-255)\n",
      "Contrast: 1144.59 (Standard deviation of pixel intensity values)\n",
      "Noise Level: 3.12 (Pixel intensity value)\n",
      "--------------------\n",
      "Image: case 3(c).jpg\n",
      "Luminance: 77.52 (Pixel intensity value, 0-255)\n",
      "Brightness: 77.48 (Pixel intensity value, 0-255)\n",
      "Contrast: 1175.62 (Standard deviation of pixel intensity values)\n",
      "Noise Level: 3.36 (Pixel intensity value)\n",
      "--------------------\n",
      "Image: case 3(a).jpg\n",
      "Luminance: 75.37 (Pixel intensity value, 0-255)\n",
      "Brightness: 75.59 (Pixel intensity value, 0-255)\n",
      "Contrast: 1171.11 (Standard deviation of pixel intensity values)\n",
      "Noise Level: 3.00 (Pixel intensity value)\n",
      "--------------------\n",
      "Image: case 2(a).jpg\n",
      "Luminance: 144.08 (Pixel intensity value, 0-255)\n",
      "Brightness: 143.57 (Pixel intensity value, 0-255)\n",
      "Contrast: 1136.97 (Standard deviation of pixel intensity values)\n",
      "Noise Level: 3.57 (Pixel intensity value)\n",
      "--------------------\n",
      "Image: case 1(c).jpg\n",
      "Luminance: 159.29 (Pixel intensity value, 0-255)\n",
      "Brightness: 159.38 (Pixel intensity value, 0-255)\n",
      "Contrast: 2020.20 (Standard deviation of pixel intensity values)\n",
      "Noise Level: 3.27 (Pixel intensity value)\n",
      "--------------------\n",
      "Image: case 1(a).jpg\n",
      "Luminance: 161.42 (Pixel intensity value, 0-255)\n",
      "Brightness: 161.54 (Pixel intensity value, 0-255)\n",
      "Contrast: 402.21 (Standard deviation of pixel intensity values)\n",
      "Noise Level: 4.46 (Pixel intensity value)\n",
      "--------------------\n",
      "Image: case 2(b).jpg\n",
      "Luminance: 146.05 (Pixel intensity value, 0-255)\n",
      "Brightness: 145.70 (Pixel intensity value, 0-255)\n",
      "Contrast: 1161.04 (Standard deviation of pixel intensity values)\n",
      "Noise Level: 3.56 (Pixel intensity value)\n",
      "--------------------\n",
      "Image: case 1(b).jpg\n",
      "Luminance: 167.54 (Pixel intensity value, 0-255)\n",
      "Brightness: 167.69 (Pixel intensity value, 0-255)\n",
      "Contrast: 464.55 (Standard deviation of pixel intensity values)\n",
      "Noise Level: 4.01 (Pixel intensity value)\n",
      "--------------------\n",
      "Image: case 2(c).jpg\n",
      "Luminance: 145.33 (Pixel intensity value, 0-255)\n",
      "Brightness: 144.89 (Pixel intensity value, 0-255)\n",
      "Contrast: 1201.20 (Standard deviation of pixel intensity values)\n",
      "Noise Level: 3.58 (Pixel intensity value)\n",
      "--------------------\n"
     ]
    }
   ],
   "source": [
    "import cv2\n",
    "import os\n",
    "import numpy as np\n",
    "\n",
    "# Set the folder path\n",
    "folder_path = \"case_description\"\n",
    "\n",
    "# Loop through all files in the folder\n",
    "for filename in os.listdir(folder_path):\n",
    "    # Ensure we only process image files\n",
    "    if filename.lower().endswith(('.png', '.jpg', '.jpeg', '.bmp', '.tiff')):\n",
    "        # Load the image\n",
    "        image_path = os.path.join(folder_path, filename)\n",
    "        image = cv2.imread(image_path)\n",
    "\n",
    "        if image is None:\n",
    "            print(f\"Failed to load image {filename}\")\n",
    "            continue\n",
    "\n",
    "        # Convert the image to grayscale\n",
    "        gray = cv2.cvtColor(image, cv2.COLOR_BGR2GRAY)\n",
    "\n",
    "        # Calculate luminance (Pixel intensity value, range 0-255 for 8-bit images)\n",
    "        luminance = cv2.mean(gray)[0]\n",
    "\n",
    "        # Calculate brightness (Pixel intensity value, range 0-255 for 8-bit images)\n",
    "        brightness = np.mean(image)\n",
    "\n",
    "        # Calculate contrast (Standard deviation of pixel intensity values)\n",
    "        hist = cv2.calcHist([gray], [0], None, [256], [0, 256])\n",
    "        contrast = hist.std()\n",
    "\n",
    "        # Calculate noise level (Pixel intensity value)\n",
    "        noise_level = np.sqrt(np.mean((gray - cv2.blur(gray, (5, 5))) ** 2))\n",
    "\n",
    "        # Print the results with units\n",
    "        print(f\"Image: {filename}\")\n",
    "        print(f\"Luminance: {luminance:.2f} (Pixel intensity value, 0-255)\")\n",
    "        print(f\"Brightness: {brightness:.2f} (Pixel intensity value, 0-255)\")\n",
    "        print(f\"Contrast: {contrast:.2f} (Standard deviation of pixel intensity values)\")\n",
    "        print(f\"Noise Level: {noise_level:.2f} (Pixel intensity value)\")\n",
    "        print(\"-\" * 20)\n"
   ]
  },
  {
   "cell_type": "markdown",
   "metadata": {},
   "source": [
    "- The os module is used to iterate through all files in the \"photos\" folder.\n",
    "- Each image is loaded using cv2.imread().\n",
    "- The luminance is calculated by converting the image to grayscale using cv2.cvtColor() and then taking the mean value using cv2.mean().\n",
    "- The brightness is calculated as the mean value of all pixels in the image.\n",
    "- The contrast is calculated by first computing a histogram of grayscale pixel values using cv2.calcHist(), and then taking the standard deviation of the histogram.\n",
    "- The noise level is estimated by calculating the standard deviation of the difference between the grayscale image and a blurred version of the image using a 5x5 Gaussian kernel.\n",
    "- The results for luminance, brightness, contrast, and noise level are printed for each image."
   ]
  },
  {
   "cell_type": "markdown",
   "metadata": {},
   "source": [
    "Sure, here's a detailed explanation of the units of measurement for each computed value:\n",
    "\n",
    "1. **Luminance**:\n",
    "   - **Unit**: Pixel intensity value.\n",
    "   - **Range**: 0-255 for 8-bit grayscale images.\n",
    "   - **Description**: The average intensity value of the grayscale image, representing the perceived brightness. It is computed as the mean pixel value of the grayscale image.\n",
    "\n",
    "2. **Brightness**:\n",
    "   - **Unit**: Pixel intensity value.\n",
    "   - **Range**: 0-255 for 8-bit color images.\n",
    "   - **Description**: The average intensity value of all pixels in the image across all channels. It is computed as the mean of all pixel values in the image, providing an overall measure of the image's brightness.\n",
    "\n",
    "3. **Contrast**:\n",
    "   - **Unit**: Standard deviation of pixel intensity values.\n",
    "   - **Range**: Theoretically from 0 to about 73.74 for 8-bit images (since the standard deviation can go up to the value of a uniform distribution of 0-255).\n",
    "   - **Description**: The standard deviation of the grayscale histogram, indicating how much the pixel values deviate from the mean pixel value. Higher values indicate greater contrast.\n",
    "\n",
    "4. **Noise Level**:\n",
    "   - **Unit**: Pixel intensity value.\n",
    "   - **Range**: Varies depending on the image content but generally within 0-255 for 8-bit images.\n",
    "   - **Description**: Estimated by calculating the root mean square of the differences between the grayscale image and its blurred version. It provides a measure of the variability in pixel values due to noise.\n"
   ]
  },
  {
   "cell_type": "markdown",
   "metadata": {},
   "source": []
  }
 ],
 "metadata": {
  "kernelspec": {
   "display_name": "Python 3",
   "language": "python",
   "name": "python3"
  },
  "language_info": {
   "codemirror_mode": {
    "name": "ipython",
    "version": 3
   },
   "file_extension": ".py",
   "mimetype": "text/x-python",
   "name": "python",
   "nbconvert_exporter": "python",
   "pygments_lexer": "ipython3",
   "version": "3.8.19"
  }
 },
 "nbformat": 4,
 "nbformat_minor": 2
}
